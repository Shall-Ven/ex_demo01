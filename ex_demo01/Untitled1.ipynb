{
 "cells": [
  {
   "cell_type": "code",
   "execution_count": 6,
   "id": "20c82cfd",
   "metadata": {},
   "outputs": [],
   "source": [
    "##打开调试日志\n",
    "import logging\n",
    "logging.basicConfig(level=logging.INFO,format=\"%(filename)s[line:%(lineno)d] %(levelname)s %(message)s\")\n",
    "logger=logging.getLogger(__name__)\n",
    "\n",
    "import torch\n",
    "import torchvision\n",
    "from torchvision import datasets, transforms\n",
    "from torch.autograd import Variable\n",
    "import torch.utils.data.dataloader as Data\n",
    "import torch.nn as nn\n",
    "from torchvision import models\n",
    "from adversary import Adversary\n",
    "#from adversarialbox.attacks.saliency import JSMA\n",
    "from JSMA import JSMA\n",
    "from LeNet import LeNet\n",
    "from pytorch import PytorchModel\n",
    "import numpy as np\n",
    "import cv2\n",
    "#from tools import show_images_diff\n",
    "import matplotlib.pyplot as plt\n",
    "\n",
    "import os\n",
    "os.environ['KMP_DUPLICATE_LIB_OK'] = 'TRUE'\n",
    "\n",
    "from past.utils import old_div\n",
    "import d2lzh_pytorch as d2l"
   ]
  },
  {
   "cell_type": "code",
   "execution_count": 59,
   "id": "d55b08e9",
   "metadata": {},
   "outputs": [],
   "source": [
    "def show_images_diff(original_img, original_label, adversarial_img, adversarial_label):\n",
    "    plt.figure()\n",
    "\n",
    "    plt.subplot(131)\n",
    "    plt.title('Original')\n",
    "    plt.imshow(original_img)\n",
    "    plt.axis('off')\n",
    "\n",
    "    plt.subplot(132)\n",
    "    plt.title('Adversarial')\n",
    "    plt.imshow(adversarial_img)\n",
    "    plt.axis('off')\n",
    "\n",
    "    plt.subplot(133)\n",
    "    plt.title('Adversarial-Original')\n",
    "    difference = adversarial_img - original_img\n",
    "\n",
    "    l0 = np.where(difference != 0)[0].shape[0]\n",
    "    l2 = np.linalg.norm(difference)\n",
    "    # print(difference)\n",
    "    print(\"l0={} l2={}\".format(l0, l2))\n",
    "\n",
    "    # (-1,1)  -> (0,1)\n",
    "    difference = old_div(difference, abs(difference).max()) / 2.0 + 0.5\n",
    "\n",
    "    plt.imshow(difference, cmap=plt.cm.blue)\n",
    "    plt.axis('off')\n",
    "    plt.tight_layout()\n",
    "    plt.show()"
   ]
  },
  {
   "cell_type": "code",
   "execution_count": 9,
   "id": "a756c3b1",
   "metadata": {},
   "outputs": [],
   "source": [
    "#定义被攻击的图片\n",
    "image_path=\"f:\\\\cow.jpg\""
   ]
  },
  {
   "cell_type": "code",
   "execution_count": 3,
   "metadata": {},
   "outputs": [],
   "source": [
    "mnist_train = torchvision.datasets.MNIST(root='../../data', train=True, download=True, transform=transforms.ToTensor())\n",
    "mnist_test = torchvision.datasets.MNIST(root='../../data', train=False, download=True, transform=transforms.ToTensor())\n",
    "batch_size = 256\n",
    "train_iter = torch.utils.data.DataLoader(mnist_train, batch_size=batch_size, shuffle=True, num_workers=4)\n",
    "test_iter = torch.utils.data.DataLoader(mnist_test, batch_size=batch_size, shuffle=False, num_workers=4)\n",
    "mnist_test1=torchvision.datasets.MNIST(root='../../data', train=False, download=True, transform=transforms.ToTensor())\n",
    "test_loader=torch.utils.data.DataLoader(mnist_test1, batch_size=1, shuffle=False)"
   ]
  },
  {
   "cell_type": "code",
   "execution_count": 4,
   "metadata": {},
   "outputs": [],
   "source": [
    "X, y = iter(test_iter).next()"
   ]
  },
  {
   "cell_type": "code",
   "execution_count": 28,
   "metadata": {},
   "outputs": [
    {
     "name": "stdout",
     "output_type": "stream",
     "text": [
      "tensor([[7, 2, 1, 0, 4, 1, 4, 9],\n",
      "        [5, 9, 0, 6, 9, 0, 1, 5]])\n"
     ]
    },
    {
     "data": {
      "text/plain": [
       "(1, 28, 28)"
      ]
     },
     "execution_count": 28,
     "metadata": {},
     "output_type": "execute_result"
    },
    {
     "data": {
      "image/png": "[encoded data removed]",
      "text/plain": [
       "<Figure size 1152x288 with 16 Axes>"
      ]
     },
     "metadata": {
      "needs_background": "light"
     },
     "output_type": "display_data"
    }
   ],
   "source": [
    "d2l.show_images([i[0] for i in X[:16]],2,8)\n",
    "print(y[:16].view(-1,8))\n",
    "#X[0].shape\n",
    "np.array(X[0]).shape"
   ]
  },
  {
   "cell_type": "code",
   "execution_count": 18,
   "metadata": {},
   "outputs": [
    {
     "name": "stderr",
     "output_type": "stream",
     "text": [
      "<ipython-input-18-3355f517f2d9>[line:2] INFO CUDA Available: False\n"
     ]
    },
    {
     "name": "stdout",
     "output_type": "stream",
     "text": [
      "(545, 820, 3)\n",
      "(3, 224, 224)\n"
     ]
    }
   ],
   "source": [
    "# Define what device we are using\n",
    "logging.info(\"CUDA Available: {}\".format(torch.cuda.is_available()))\n",
    "device = torch.device(\"cuda\" if torch.cuda.is_available() else \"cpu\")\n",
    "\n",
    "#cv2默认读取格式为bgr bgr -> rgb   \n",
    "orig = cv2.imread(image_path)[..., ::-1]\n",
    "print(orig.shape)\n",
    "#转换成224*224\n",
    "orig = cv2.resize(orig, (224, 224))\n",
    "adv=None\n",
    "img = orig.copy().astype(np.float32)\n",
    "img = img.transpose(2, 0, 1)\n",
    "print(img.shape)"
   ]
  },
  {
   "cell_type": "code",
   "execution_count": 20,
   "metadata": {},
   "outputs": [
    {
     "data": {
      "text/plain": [
       "<All keys matched successfully>"
      ]
     },
     "execution_count": 20,
     "metadata": {},
     "output_type": "execute_result"
    }
   ],
   "source": [
    "pretrained_model='lenetc.pth'\n",
    "model = LeNet().to(device)\n",
    "model.load_state_dict(torch.load(pretrained_model, map_location='cpu'))"
   ]
  },
  {
   "cell_type": "code",
   "execution_count": 38,
   "id": "3cafb13a",
   "metadata": {},
   "outputs": [
    {
     "name": "stderr",
     "output_type": "stream",
     "text": [
      "pytorch.py[line:53] INFO Finish PytorchModel init\n",
      "base.py[line:65] INFO adversary:\n",
      "         original_label: 7\n",
      "         target_label: 0\n",
      "         is_targeted_attack: True\n",
      "JSMA.py[line:79] INFO step = 0, original_label = 7, adv_label=7 target logit=-2.67924427986145\n",
      "JSMA.py[line:79] INFO step = 1, original_label = 7, adv_label=7 target logit=-2.3577404022216797\n",
      "JSMA.py[line:79] INFO step = 2, original_label = 7, adv_label=7 target logit=-2.110347032546997\n",
      "JSMA.py[line:79] INFO step = 3, original_label = 7, adv_label=7 target logit=-1.885266661643982\n",
      "JSMA.py[line:79] INFO step = 4, original_label = 7, adv_label=7 target logit=-1.7767741680145264\n",
      "JSMA.py[line:79] INFO step = 5, original_label = 7, adv_label=7 target logit=-1.651708722114563\n",
      "JSMA.py[line:79] INFO step = 6, original_label = 7, adv_label=7 target logit=-1.4420222043991089\n",
      "JSMA.py[line:79] INFO step = 7, original_label = 7, adv_label=7 target logit=-1.1861777305603027\n",
      "JSMA.py[line:79] INFO step = 8, original_label = 7, adv_label=2 target logit=-1.0388679504394531\n",
      "JSMA.py[line:79] INFO step = 9, original_label = 7, adv_label=2 target logit=-0.6543291211128235\n",
      "JSMA.py[line:79] INFO step = 10, original_label = 7, adv_label=2 target logit=-0.5509135127067566\n",
      "JSMA.py[line:79] INFO step = 11, original_label = 7, adv_label=2 target logit=-0.060602374374866486\n",
      "JSMA.py[line:79] INFO step = 12, original_label = 7, adv_label=2 target logit=0.19182124733924866\n",
      "JSMA.py[line:79] INFO step = 13, original_label = 7, adv_label=2 target logit=0.28088316321372986\n",
      "JSMA.py[line:79] INFO step = 14, original_label = 7, adv_label=2 target logit=0.6861198544502258\n",
      "JSMA.py[line:79] INFO step = 15, original_label = 7, adv_label=2 target logit=0.8169520497322083\n",
      "JSMA.py[line:79] INFO step = 16, original_label = 7, adv_label=2 target logit=0.9210737347602844\n",
      "JSMA.py[line:79] INFO step = 17, original_label = 7, adv_label=2 target logit=1.3037474155426025\n",
      "JSMA.py[line:79] INFO step = 18, original_label = 7, adv_label=2 target logit=1.735565185546875\n",
      "JSMA.py[line:79] INFO step = 19, original_label = 7, adv_label=2 target logit=2.3658511638641357\n",
      "JSMA.py[line:79] INFO step = 20, original_label = 7, adv_label=2 target logit=2.6929991245269775\n"
     ]
    },
    {
     "name": "stdout",
     "output_type": "stream",
     "text": [
      "cpu\n",
      "(1, 1, 28, 28)\n",
      "attack success, adversarial_label=0\n",
      "jsma attack done\n"
     ]
    }
   ],
   "source": [
    "\n",
    "#图像数据标准化\n",
    "'''\n",
    "mean = [0.485, 0.456, 0.406]\n",
    "std = [0.229, 0.224, 0.225]\n",
    "img /= 255.0\n",
    "img = (img - mean) / std\n",
    "\n",
    "#pytorch中图像格式为CHW  \n",
    "#[224,224,3]->[3,224,224]\n",
    "img = img.transpose(2, 0, 1)\n",
    "'''\n",
    "img = Variable(X[0].to(device).float().unsqueeze(0)).cpu().numpy()\n",
    "\n",
    "\n",
    "# Initialize the network\n",
    "#Alexnet\n",
    "#model = models.alexnet(pretrained=True).to(device).eval()\n",
    "\n",
    "#print(model)\n",
    "\n",
    "#设置为不保存梯度值 自然也无法修改\n",
    "for param in model.parameters():\n",
    "    param.requires_grad = False\n",
    "\n",
    "# advbox demo\n",
    "m = PytorchModel(\n",
    "    model, None,(-3, 3),\n",
    "    channel_axis=1)\n",
    "\n",
    "#实例化JSMA max_iter为最大迭代次数  theta为扰动系数 max_perturbations_per_pixel为单像素最大修改次数\n",
    "attack = JSMA(m)\n",
    "attack_config = {\n",
    "        \"max_iter\": 2000,\n",
    "        \"theta\": 0.3,\n",
    "        \"max_perturbations_per_pixel\": 7,\n",
    "        \"fast\":True,\n",
    "        \"two_pix\":False\n",
    "}\n",
    "\n",
    "\n",
    "inputs=img\n",
    "labels = None\n",
    "\n",
    "print(inputs.shape)\n",
    "\n",
    "adversary = Adversary(inputs, labels)\n",
    "\n",
    "#定向攻击\n",
    "tlabel = 0\n",
    "adversary.set_target(is_targeted_attack=True, target_label=tlabel)\n",
    "\n",
    "\n",
    "adversary = attack(adversary, **attack_config)\n",
    "\n",
    "if adversary.is_successful():\n",
    "    print(\n",
    "        'attack success, adversarial_label=%d'\n",
    "        % (adversary.adversarial_label))\n",
    "\n",
    "    adv=adversary.adversarial_example[0]\n",
    "\n",
    "else:\n",
    "    print('attack failed')\n",
    "\n",
    "\n",
    "print(\"jsma attack done\")"
   ]
  },
  {
   "cell_type": "code",
   "execution_count": 56,
   "id": "ec4f8578",
   "metadata": {},
   "outputs": [
    {
     "name": "stdout",
     "output_type": "stream",
     "text": [
      "(28, 28, 1)\n",
      "torch.Size([1, 28, 28])\n"
     ]
    }
   ],
   "source": [
    "#格式转换\n",
    "adv = adv.transpose(2,1,0)\n",
    "adv = np.clip(adv, 0, 255).astype(np.uint8)\n",
    "print(adv.shape)\n",
    "print(X[0].shape)"
   ]
  },
  {
   "cell_type": "code",
   "execution_count": 60,
   "metadata": {},
   "outputs": [
    {
     "name": "stdout",
     "output_type": "stream",
     "text": [
      "l0=136 l2=8.897682189941406\n"
     ]
    },
    {
     "data": {
      "image/png": "[encoded data removed]",
      "text/plain": [
       "<Figure size 432x288 with 3 Axes>"
      ]
     },
     "metadata": {
      "needs_background": "light"
     },
     "output_type": "display_data"
    }
   ],
   "source": [
    "show_images_diff(np.array(X[0]).transpose(1,2,0),adversary.original_label,adv,adversary.adversarial_label)"
   ]
  }
 ],
 "metadata": {
  "interpreter": {
   "hash": "5c7b3001b3d9c2ad00efd4c4026275f8181d809793fdf54a8bf6e7758a40e66e"
  },
  "kernelspec": {
   "display_name": "Python 3.8.8 64-bit ('base': conda)",
   "name": "python3"
  },
  "language_info": {
   "codemirror_mode": {
    "name": "ipython",
    "version": 3
   },
   "file_extension": ".py",
   "mimetype": "text/x-python",
   "name": "python",
   "nbconvert_exporter": "python",
   "pygments_lexer": "ipython3",
   "version": "3.8.8"
  }
 },
 "nbformat": 4,
 "nbformat_minor": 5
}
